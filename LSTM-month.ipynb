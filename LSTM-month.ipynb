{
 "cells": [
  {
   "cell_type": "code",
   "execution_count": 1,
   "id": "7a918a24",
   "metadata": {},
   "outputs": [],
   "source": [
    "import numpy as np\n",
    "import pandas as pd\n",
    "import seaborn as sns\n",
    "import matplotlib.pyplot as plt\n",
    "import matplotlib as mpl\n",
    "from scipy import stats\n",
    "from sklearn.preprocessing import MinMaxScaler\n",
    "from sklearn.metrics import mean_squared_error\n",
    "from datetime import datetime\n",
    "import tensorflow as tf\n",
    "from keras.models import Sequential\n",
    "from keras.layers import LSTM\n",
    "from keras.layers import Dense\n",
    "from keras.layers import Dropout\n",
    "import warnings\n",
    "\n",
    "# Disable all warnings\n",
    "warnings.filterwarnings(\"ignore\")"
   ]
  },
  {
   "cell_type": "code",
   "execution_count": 2,
   "id": "90b2eb81",
   "metadata": {},
   "outputs": [],
   "source": [
    "#!pip install keras"
   ]
  },
  {
   "cell_type": "code",
   "execution_count": 3,
   "id": "302e8e93",
   "metadata": {},
   "outputs": [],
   "source": [
    "#!pip install tensorflow"
   ]
  },
  {
   "cell_type": "code",
   "execution_count": 4,
   "id": "e6531cf8",
   "metadata": {},
   "outputs": [],
   "source": [
    "data = pd.read_csv(\"M0424_2562_RMF.csv\",parse_dates=['nav_date']) \n",
    "\n",
    "#1.\"M0017_2565_SSF.csv\"\n",
    "\n",
    "#2. M0110_2564_SSF.csv\n",
    "\n",
    "#3. \"M0005_2558_SSF.csv\"\n",
    "\n",
    "#4. M0120_2564_SSF.csv\n",
    "\n",
    "#5.M0134_2564_SSF.csv\n",
    "\n",
    "#6.\"M0144_2563_SSF.csv\"\n",
    "\n",
    "#7.M0151_2563_SSF.csv\n",
    "\n",
    "#8.M0152_2564_SSF.csv\n"
   ]
  },
  {
   "cell_type": "code",
   "execution_count": null,
   "id": "9b35c59f",
   "metadata": {},
   "outputs": [],
   "source": []
  },
  {
   "cell_type": "code",
   "execution_count": 5,
   "id": "827f0730",
   "metadata": {},
   "outputs": [
    {
     "data": {
      "text/html": [
       "<div>\n",
       "<style scoped>\n",
       "    .dataframe tbody tr th:only-of-type {\n",
       "        vertical-align: middle;\n",
       "    }\n",
       "\n",
       "    .dataframe tbody tr th {\n",
       "        vertical-align: top;\n",
       "    }\n",
       "\n",
       "    .dataframe thead th {\n",
       "        text-align: right;\n",
       "    }\n",
       "</style>\n",
       "<table border=\"1\" class=\"dataframe\">\n",
       "  <thead>\n",
       "    <tr style=\"text-align: right;\">\n",
       "      <th></th>\n",
       "      <th>nav_date</th>\n",
       "      <th>net_asset</th>\n",
       "      <th>last_val</th>\n",
       "      <th>sell_price</th>\n",
       "      <th>buy_price</th>\n",
       "      <th>sell_swap_price</th>\n",
       "      <th>buy_swap_price</th>\n",
       "    </tr>\n",
       "  </thead>\n",
       "  <tbody>\n",
       "    <tr>\n",
       "      <th>890</th>\n",
       "      <td>2023-07-11</td>\n",
       "      <td>2.113719e+08</td>\n",
       "      <td>7.9700</td>\n",
       "      <td>7.9701</td>\n",
       "      <td>7.9700</td>\n",
       "      <td>7.9700</td>\n",
       "      <td>7.9701</td>\n",
       "    </tr>\n",
       "    <tr>\n",
       "      <th>891</th>\n",
       "      <td>2023-07-12</td>\n",
       "      <td>2.127665e+08</td>\n",
       "      <td>8.0210</td>\n",
       "      <td>8.0211</td>\n",
       "      <td>8.0210</td>\n",
       "      <td>8.0210</td>\n",
       "      <td>8.0211</td>\n",
       "    </tr>\n",
       "    <tr>\n",
       "      <th>892</th>\n",
       "      <td>2023-07-13</td>\n",
       "      <td>2.142225e+08</td>\n",
       "      <td>8.0727</td>\n",
       "      <td>8.0728</td>\n",
       "      <td>8.0727</td>\n",
       "      <td>8.0727</td>\n",
       "      <td>8.0728</td>\n",
       "    </tr>\n",
       "    <tr>\n",
       "      <th>893</th>\n",
       "      <td>2023-07-14</td>\n",
       "      <td>2.155514e+08</td>\n",
       "      <td>8.1251</td>\n",
       "      <td>8.1252</td>\n",
       "      <td>8.1251</td>\n",
       "      <td>8.1251</td>\n",
       "      <td>8.1252</td>\n",
       "    </tr>\n",
       "    <tr>\n",
       "      <th>894</th>\n",
       "      <td>2023-07-17</td>\n",
       "      <td>2.151233e+08</td>\n",
       "      <td>8.1075</td>\n",
       "      <td>8.1076</td>\n",
       "      <td>8.1075</td>\n",
       "      <td>8.1075</td>\n",
       "      <td>8.1076</td>\n",
       "    </tr>\n",
       "    <tr>\n",
       "      <th>895</th>\n",
       "      <td>2023-07-18</td>\n",
       "      <td>2.149349e+08</td>\n",
       "      <td>8.0960</td>\n",
       "      <td>8.0961</td>\n",
       "      <td>8.0960</td>\n",
       "      <td>8.0960</td>\n",
       "      <td>8.0961</td>\n",
       "    </tr>\n",
       "    <tr>\n",
       "      <th>896</th>\n",
       "      <td>2023-07-19</td>\n",
       "      <td>2.139223e+08</td>\n",
       "      <td>8.0523</td>\n",
       "      <td>8.0524</td>\n",
       "      <td>8.0523</td>\n",
       "      <td>8.0523</td>\n",
       "      <td>8.0524</td>\n",
       "    </tr>\n",
       "    <tr>\n",
       "      <th>897</th>\n",
       "      <td>2023-07-20</td>\n",
       "      <td>2.146513e+08</td>\n",
       "      <td>8.0770</td>\n",
       "      <td>8.0771</td>\n",
       "      <td>8.0770</td>\n",
       "      <td>8.0770</td>\n",
       "      <td>8.0771</td>\n",
       "    </tr>\n",
       "    <tr>\n",
       "      <th>898</th>\n",
       "      <td>2023-07-21</td>\n",
       "      <td>2.149879e+08</td>\n",
       "      <td>8.0888</td>\n",
       "      <td>8.0889</td>\n",
       "      <td>8.0888</td>\n",
       "      <td>8.0888</td>\n",
       "      <td>8.0889</td>\n",
       "    </tr>\n",
       "    <tr>\n",
       "      <th>899</th>\n",
       "      <td>2023-07-24</td>\n",
       "      <td>2.145588e+08</td>\n",
       "      <td>8.0715</td>\n",
       "      <td>8.0716</td>\n",
       "      <td>8.0715</td>\n",
       "      <td>8.0715</td>\n",
       "      <td>8.0716</td>\n",
       "    </tr>\n",
       "    <tr>\n",
       "      <th>900</th>\n",
       "      <td>2023-07-25</td>\n",
       "      <td>2.153432e+08</td>\n",
       "      <td>8.0959</td>\n",
       "      <td>8.0960</td>\n",
       "      <td>8.0959</td>\n",
       "      <td>8.0959</td>\n",
       "      <td>8.0960</td>\n",
       "    </tr>\n",
       "    <tr>\n",
       "      <th>901</th>\n",
       "      <td>2023-07-26</td>\n",
       "      <td>2.150364e+08</td>\n",
       "      <td>8.0790</td>\n",
       "      <td>8.0791</td>\n",
       "      <td>8.0790</td>\n",
       "      <td>8.0790</td>\n",
       "      <td>8.0791</td>\n",
       "    </tr>\n",
       "    <tr>\n",
       "      <th>902</th>\n",
       "      <td>2023-07-27</td>\n",
       "      <td>2.154934e+08</td>\n",
       "      <td>8.0928</td>\n",
       "      <td>8.0929</td>\n",
       "      <td>8.0928</td>\n",
       "      <td>8.0928</td>\n",
       "      <td>8.0929</td>\n",
       "    </tr>\n",
       "    <tr>\n",
       "      <th>903</th>\n",
       "      <td>2023-07-31</td>\n",
       "      <td>2.139851e+08</td>\n",
       "      <td>8.0351</td>\n",
       "      <td>8.0352</td>\n",
       "      <td>8.0351</td>\n",
       "      <td>8.0351</td>\n",
       "      <td>8.0352</td>\n",
       "    </tr>\n",
       "    <tr>\n",
       "      <th>904</th>\n",
       "      <td>2023-08-02</td>\n",
       "      <td>2.132509e+08</td>\n",
       "      <td>8.0084</td>\n",
       "      <td>8.0085</td>\n",
       "      <td>8.0084</td>\n",
       "      <td>8.0084</td>\n",
       "      <td>8.0085</td>\n",
       "    </tr>\n",
       "    <tr>\n",
       "      <th>905</th>\n",
       "      <td>2023-08-03</td>\n",
       "      <td>2.132685e+08</td>\n",
       "      <td>7.9980</td>\n",
       "      <td>7.9981</td>\n",
       "      <td>7.9980</td>\n",
       "      <td>7.9980</td>\n",
       "      <td>7.9981</td>\n",
       "    </tr>\n",
       "    <tr>\n",
       "      <th>906</th>\n",
       "      <td>2023-08-04</td>\n",
       "      <td>2.131170e+08</td>\n",
       "      <td>7.9903</td>\n",
       "      <td>7.9904</td>\n",
       "      <td>7.9903</td>\n",
       "      <td>7.9903</td>\n",
       "      <td>7.9904</td>\n",
       "    </tr>\n",
       "    <tr>\n",
       "      <th>907</th>\n",
       "      <td>2023-08-07</td>\n",
       "      <td>2.140498e+08</td>\n",
       "      <td>8.0235</td>\n",
       "      <td>8.0236</td>\n",
       "      <td>8.0235</td>\n",
       "      <td>8.0235</td>\n",
       "      <td>8.0236</td>\n",
       "    </tr>\n",
       "    <tr>\n",
       "      <th>908</th>\n",
       "      <td>2023-08-08</td>\n",
       "      <td>2.143660e+08</td>\n",
       "      <td>8.0343</td>\n",
       "      <td>8.0344</td>\n",
       "      <td>8.0343</td>\n",
       "      <td>8.0343</td>\n",
       "      <td>8.0344</td>\n",
       "    </tr>\n",
       "    <tr>\n",
       "      <th>909</th>\n",
       "      <td>2023-08-09</td>\n",
       "      <td>2.137131e+08</td>\n",
       "      <td>8.0066</td>\n",
       "      <td>0.0000</td>\n",
       "      <td>0.0000</td>\n",
       "      <td>0.0000</td>\n",
       "      <td>0.0000</td>\n",
       "    </tr>\n",
       "  </tbody>\n",
       "</table>\n",
       "</div>"
      ],
      "text/plain": [
       "      nav_date     net_asset  last_val  sell_price  buy_price  \\\n",
       "890 2023-07-11  2.113719e+08    7.9700      7.9701     7.9700   \n",
       "891 2023-07-12  2.127665e+08    8.0210      8.0211     8.0210   \n",
       "892 2023-07-13  2.142225e+08    8.0727      8.0728     8.0727   \n",
       "893 2023-07-14  2.155514e+08    8.1251      8.1252     8.1251   \n",
       "894 2023-07-17  2.151233e+08    8.1075      8.1076     8.1075   \n",
       "895 2023-07-18  2.149349e+08    8.0960      8.0961     8.0960   \n",
       "896 2023-07-19  2.139223e+08    8.0523      8.0524     8.0523   \n",
       "897 2023-07-20  2.146513e+08    8.0770      8.0771     8.0770   \n",
       "898 2023-07-21  2.149879e+08    8.0888      8.0889     8.0888   \n",
       "899 2023-07-24  2.145588e+08    8.0715      8.0716     8.0715   \n",
       "900 2023-07-25  2.153432e+08    8.0959      8.0960     8.0959   \n",
       "901 2023-07-26  2.150364e+08    8.0790      8.0791     8.0790   \n",
       "902 2023-07-27  2.154934e+08    8.0928      8.0929     8.0928   \n",
       "903 2023-07-31  2.139851e+08    8.0351      8.0352     8.0351   \n",
       "904 2023-08-02  2.132509e+08    8.0084      8.0085     8.0084   \n",
       "905 2023-08-03  2.132685e+08    7.9980      7.9981     7.9980   \n",
       "906 2023-08-04  2.131170e+08    7.9903      7.9904     7.9903   \n",
       "907 2023-08-07  2.140498e+08    8.0235      8.0236     8.0235   \n",
       "908 2023-08-08  2.143660e+08    8.0343      8.0344     8.0343   \n",
       "909 2023-08-09  2.137131e+08    8.0066      0.0000     0.0000   \n",
       "\n",
       "     sell_swap_price  buy_swap_price  \n",
       "890           7.9700          7.9701  \n",
       "891           8.0210          8.0211  \n",
       "892           8.0727          8.0728  \n",
       "893           8.1251          8.1252  \n",
       "894           8.1075          8.1076  \n",
       "895           8.0960          8.0961  \n",
       "896           8.0523          8.0524  \n",
       "897           8.0770          8.0771  \n",
       "898           8.0888          8.0889  \n",
       "899           8.0715          8.0716  \n",
       "900           8.0959          8.0960  \n",
       "901           8.0790          8.0791  \n",
       "902           8.0928          8.0929  \n",
       "903           8.0351          8.0352  \n",
       "904           8.0084          8.0085  \n",
       "905           7.9980          7.9981  \n",
       "906           7.9903          7.9904  \n",
       "907           8.0235          8.0236  \n",
       "908           8.0343          8.0344  \n",
       "909           0.0000          0.0000  "
      ]
     },
     "execution_count": 5,
     "metadata": {},
     "output_type": "execute_result"
    }
   ],
   "source": [
    "data.tail(20)"
   ]
  },
  {
   "cell_type": "code",
   "execution_count": 6,
   "id": "05ec1a00",
   "metadata": {},
   "outputs": [
    {
     "data": {
      "text/html": [
       "<div>\n",
       "<style scoped>\n",
       "    .dataframe tbody tr th:only-of-type {\n",
       "        vertical-align: middle;\n",
       "    }\n",
       "\n",
       "    .dataframe tbody tr th {\n",
       "        vertical-align: top;\n",
       "    }\n",
       "\n",
       "    .dataframe thead th {\n",
       "        text-align: right;\n",
       "    }\n",
       "</style>\n",
       "<table border=\"1\" class=\"dataframe\">\n",
       "  <thead>\n",
       "    <tr style=\"text-align: right;\">\n",
       "      <th></th>\n",
       "      <th>net_asset</th>\n",
       "      <th>last_val</th>\n",
       "      <th>sell_price</th>\n",
       "      <th>buy_price</th>\n",
       "      <th>sell_swap_price</th>\n",
       "      <th>buy_swap_price</th>\n",
       "    </tr>\n",
       "  </thead>\n",
       "  <tbody>\n",
       "    <tr>\n",
       "      <th>count</th>\n",
       "      <td>9.100000e+02</td>\n",
       "      <td>910.000000</td>\n",
       "      <td>910.000000</td>\n",
       "      <td>910.000000</td>\n",
       "      <td>910.000000</td>\n",
       "      <td>910.000000</td>\n",
       "    </tr>\n",
       "    <tr>\n",
       "      <th>mean</th>\n",
       "      <td>1.788391e+08</td>\n",
       "      <td>8.746053</td>\n",
       "      <td>8.361886</td>\n",
       "      <td>8.361791</td>\n",
       "      <td>7.075805</td>\n",
       "      <td>7.075840</td>\n",
       "    </tr>\n",
       "    <tr>\n",
       "      <th>std</th>\n",
       "      <td>4.480503e+07</td>\n",
       "      <td>0.539184</td>\n",
       "      <td>1.869023</td>\n",
       "      <td>1.869003</td>\n",
       "      <td>3.504850</td>\n",
       "      <td>3.504862</td>\n",
       "    </tr>\n",
       "    <tr>\n",
       "      <th>min</th>\n",
       "      <td>1.907957e+07</td>\n",
       "      <td>7.018800</td>\n",
       "      <td>0.000000</td>\n",
       "      <td>0.000000</td>\n",
       "      <td>0.000000</td>\n",
       "      <td>0.000000</td>\n",
       "    </tr>\n",
       "    <tr>\n",
       "      <th>25%</th>\n",
       "      <td>1.377431e+08</td>\n",
       "      <td>8.378875</td>\n",
       "      <td>8.271250</td>\n",
       "      <td>8.271150</td>\n",
       "      <td>7.999500</td>\n",
       "      <td>7.999450</td>\n",
       "    </tr>\n",
       "    <tr>\n",
       "      <th>50%</th>\n",
       "      <td>1.975705e+08</td>\n",
       "      <td>8.747200</td>\n",
       "      <td>8.729150</td>\n",
       "      <td>8.729050</td>\n",
       "      <td>8.674900</td>\n",
       "      <td>8.675000</td>\n",
       "    </tr>\n",
       "    <tr>\n",
       "      <th>75%</th>\n",
       "      <td>2.151351e+08</td>\n",
       "      <td>9.012900</td>\n",
       "      <td>8.998375</td>\n",
       "      <td>8.998275</td>\n",
       "      <td>8.998275</td>\n",
       "      <td>8.998375</td>\n",
       "    </tr>\n",
       "    <tr>\n",
       "      <th>max</th>\n",
       "      <td>2.302065e+08</td>\n",
       "      <td>10.192100</td>\n",
       "      <td>10.192200</td>\n",
       "      <td>10.192100</td>\n",
       "      <td>10.192200</td>\n",
       "      <td>10.192100</td>\n",
       "    </tr>\n",
       "  </tbody>\n",
       "</table>\n",
       "</div>"
      ],
      "text/plain": [
       "          net_asset    last_val  sell_price   buy_price  sell_swap_price  \\\n",
       "count  9.100000e+02  910.000000  910.000000  910.000000       910.000000   \n",
       "mean   1.788391e+08    8.746053    8.361886    8.361791         7.075805   \n",
       "std    4.480503e+07    0.539184    1.869023    1.869003         3.504850   \n",
       "min    1.907957e+07    7.018800    0.000000    0.000000         0.000000   \n",
       "25%    1.377431e+08    8.378875    8.271250    8.271150         7.999500   \n",
       "50%    1.975705e+08    8.747200    8.729150    8.729050         8.674900   \n",
       "75%    2.151351e+08    9.012900    8.998375    8.998275         8.998275   \n",
       "max    2.302065e+08   10.192100   10.192200   10.192100        10.192200   \n",
       "\n",
       "       buy_swap_price  \n",
       "count      910.000000  \n",
       "mean         7.075840  \n",
       "std          3.504862  \n",
       "min          0.000000  \n",
       "25%          7.999450  \n",
       "50%          8.675000  \n",
       "75%          8.998375  \n",
       "max         10.192100  "
      ]
     },
     "execution_count": 6,
     "metadata": {},
     "output_type": "execute_result"
    }
   ],
   "source": [
    "data.describe()"
   ]
  },
  {
   "cell_type": "code",
   "execution_count": 7,
   "id": "bb9e2b8b",
   "metadata": {},
   "outputs": [
    {
     "data": {
      "text/plain": [
       "nav_date           0\n",
       "net_asset          0\n",
       "last_val           0\n",
       "sell_price         0\n",
       "buy_price          0\n",
       "sell_swap_price    0\n",
       "buy_swap_price     0\n",
       "dtype: int64"
      ]
     },
     "execution_count": 7,
     "metadata": {},
     "output_type": "execute_result"
    }
   ],
   "source": [
    "data.isnull().sum()"
   ]
  },
  {
   "cell_type": "code",
   "execution_count": 8,
   "id": "da4017b1",
   "metadata": {},
   "outputs": [],
   "source": [
    "data['nav_date'] = pd.to_datetime(data['nav_date'])"
   ]
  },
  {
   "cell_type": "code",
   "execution_count": 9,
   "id": "12be1e25",
   "metadata": {},
   "outputs": [],
   "source": [
    "monthly_avg = data.set_index('nav_date').resample('M').mean()"
   ]
  },
  {
   "cell_type": "code",
   "execution_count": 10,
   "id": "6a367dfd",
   "metadata": {},
   "outputs": [],
   "source": [
    "dfmonth = monthly_avg[\"last_val\"]"
   ]
  },
  {
   "cell_type": "code",
   "execution_count": null,
   "id": "b07a5c57",
   "metadata": {},
   "outputs": [],
   "source": []
  },
  {
   "cell_type": "code",
   "execution_count": 11,
   "id": "393cc137",
   "metadata": {},
   "outputs": [],
   "source": [
    "df = pd.DataFrame(dfmonth)"
   ]
  },
  {
   "cell_type": "code",
   "execution_count": 12,
   "id": "7909a1bc",
   "metadata": {},
   "outputs": [
    {
     "data": {
      "text/html": [
       "<div>\n",
       "<style scoped>\n",
       "    .dataframe tbody tr th:only-of-type {\n",
       "        vertical-align: middle;\n",
       "    }\n",
       "\n",
       "    .dataframe tbody tr th {\n",
       "        vertical-align: top;\n",
       "    }\n",
       "\n",
       "    .dataframe thead th {\n",
       "        text-align: right;\n",
       "    }\n",
       "</style>\n",
       "<table border=\"1\" class=\"dataframe\">\n",
       "  <thead>\n",
       "    <tr style=\"text-align: right;\">\n",
       "      <th></th>\n",
       "      <th>last_val</th>\n",
       "    </tr>\n",
       "    <tr>\n",
       "      <th>nav_date</th>\n",
       "      <th></th>\n",
       "    </tr>\n",
       "  </thead>\n",
       "  <tbody>\n",
       "    <tr>\n",
       "      <th>2019-09-30</th>\n",
       "      <td>10.066323</td>\n",
       "    </tr>\n",
       "    <tr>\n",
       "      <th>2019-10-31</th>\n",
       "      <td>10.109181</td>\n",
       "    </tr>\n",
       "    <tr>\n",
       "      <th>2019-11-30</th>\n",
       "      <td>9.804886</td>\n",
       "    </tr>\n",
       "    <tr>\n",
       "      <th>2019-12-31</th>\n",
       "      <td>9.564806</td>\n",
       "    </tr>\n",
       "    <tr>\n",
       "      <th>2020-01-31</th>\n",
       "      <td>9.855087</td>\n",
       "    </tr>\n",
       "    <tr>\n",
       "      <th>2020-02-29</th>\n",
       "      <td>9.923406</td>\n",
       "    </tr>\n",
       "    <tr>\n",
       "      <th>2020-03-31</th>\n",
       "      <td>8.466868</td>\n",
       "    </tr>\n",
       "    <tr>\n",
       "      <th>2020-04-30</th>\n",
       "      <td>8.098719</td>\n",
       "    </tr>\n",
       "    <tr>\n",
       "      <th>2020-05-31</th>\n",
       "      <td>8.678144</td>\n",
       "    </tr>\n",
       "    <tr>\n",
       "      <th>2020-06-30</th>\n",
       "      <td>9.016010</td>\n",
       "    </tr>\n",
       "    <tr>\n",
       "      <th>2020-07-31</th>\n",
       "      <td>8.827195</td>\n",
       "    </tr>\n",
       "    <tr>\n",
       "      <th>2020-08-31</th>\n",
       "      <td>8.788490</td>\n",
       "    </tr>\n",
       "    <tr>\n",
       "      <th>2020-09-30</th>\n",
       "      <td>8.907520</td>\n",
       "    </tr>\n",
       "    <tr>\n",
       "      <th>2020-10-31</th>\n",
       "      <td>8.507105</td>\n",
       "    </tr>\n",
       "    <tr>\n",
       "      <th>2020-11-30</th>\n",
       "      <td>8.440119</td>\n",
       "    </tr>\n",
       "    <tr>\n",
       "      <th>2020-12-31</th>\n",
       "      <td>8.635168</td>\n",
       "    </tr>\n",
       "    <tr>\n",
       "      <th>2021-01-31</th>\n",
       "      <td>8.679105</td>\n",
       "    </tr>\n",
       "    <tr>\n",
       "      <th>2021-02-28</th>\n",
       "      <td>8.466089</td>\n",
       "    </tr>\n",
       "    <tr>\n",
       "      <th>2021-03-31</th>\n",
       "      <td>8.671322</td>\n",
       "    </tr>\n",
       "    <tr>\n",
       "      <th>2021-04-30</th>\n",
       "      <td>8.902139</td>\n",
       "    </tr>\n",
       "    <tr>\n",
       "      <th>2021-05-31</th>\n",
       "      <td>8.769900</td>\n",
       "    </tr>\n",
       "    <tr>\n",
       "      <th>2021-06-30</th>\n",
       "      <td>9.003195</td>\n",
       "    </tr>\n",
       "    <tr>\n",
       "      <th>2021-07-31</th>\n",
       "      <td>9.140285</td>\n",
       "    </tr>\n",
       "    <tr>\n",
       "      <th>2021-08-31</th>\n",
       "      <td>9.148624</td>\n",
       "    </tr>\n",
       "    <tr>\n",
       "      <th>2021-09-30</th>\n",
       "      <td>9.109167</td>\n",
       "    </tr>\n",
       "    <tr>\n",
       "      <th>2021-10-31</th>\n",
       "      <td>9.095994</td>\n",
       "    </tr>\n",
       "    <tr>\n",
       "      <th>2021-11-30</th>\n",
       "      <td>9.158824</td>\n",
       "    </tr>\n",
       "    <tr>\n",
       "      <th>2021-12-31</th>\n",
       "      <td>8.977880</td>\n",
       "    </tr>\n",
       "    <tr>\n",
       "      <th>2022-01-31</th>\n",
       "      <td>8.774695</td>\n",
       "    </tr>\n",
       "    <tr>\n",
       "      <th>2022-02-28</th>\n",
       "      <td>8.689453</td>\n",
       "    </tr>\n",
       "    <tr>\n",
       "      <th>2022-03-31</th>\n",
       "      <td>8.866991</td>\n",
       "    </tr>\n",
       "    <tr>\n",
       "      <th>2022-04-30</th>\n",
       "      <td>9.006612</td>\n",
       "    </tr>\n",
       "    <tr>\n",
       "      <th>2022-05-31</th>\n",
       "      <td>8.718542</td>\n",
       "    </tr>\n",
       "    <tr>\n",
       "      <th>2022-06-30</th>\n",
       "      <td>8.636470</td>\n",
       "    </tr>\n",
       "    <tr>\n",
       "      <th>2022-07-31</th>\n",
       "      <td>8.661744</td>\n",
       "    </tr>\n",
       "    <tr>\n",
       "      <th>2022-08-31</th>\n",
       "      <td>8.880545</td>\n",
       "    </tr>\n",
       "    <tr>\n",
       "      <th>2022-09-30</th>\n",
       "      <td>8.628564</td>\n",
       "    </tr>\n",
       "    <tr>\n",
       "      <th>2022-10-31</th>\n",
       "      <td>7.999856</td>\n",
       "    </tr>\n",
       "    <tr>\n",
       "      <th>2022-11-30</th>\n",
       "      <td>8.006259</td>\n",
       "    </tr>\n",
       "    <tr>\n",
       "      <th>2022-12-31</th>\n",
       "      <td>8.029910</td>\n",
       "    </tr>\n",
       "    <tr>\n",
       "      <th>2023-01-31</th>\n",
       "      <td>8.267548</td>\n",
       "    </tr>\n",
       "    <tr>\n",
       "      <th>2023-02-28</th>\n",
       "      <td>8.507715</td>\n",
       "    </tr>\n",
       "    <tr>\n",
       "      <th>2023-03-31</th>\n",
       "      <td>8.228145</td>\n",
       "    </tr>\n",
       "    <tr>\n",
       "      <th>2023-04-30</th>\n",
       "      <td>8.289071</td>\n",
       "    </tr>\n",
       "    <tr>\n",
       "      <th>2023-05-31</th>\n",
       "      <td>8.183085</td>\n",
       "    </tr>\n",
       "    <tr>\n",
       "      <th>2023-06-30</th>\n",
       "      <td>8.074400</td>\n",
       "    </tr>\n",
       "    <tr>\n",
       "      <th>2023-07-31</th>\n",
       "      <td>8.043440</td>\n",
       "    </tr>\n",
       "    <tr>\n",
       "      <th>2023-08-31</th>\n",
       "      <td>8.010183</td>\n",
       "    </tr>\n",
       "  </tbody>\n",
       "</table>\n",
       "</div>"
      ],
      "text/plain": [
       "             last_val\n",
       "nav_date             \n",
       "2019-09-30  10.066323\n",
       "2019-10-31  10.109181\n",
       "2019-11-30   9.804886\n",
       "2019-12-31   9.564806\n",
       "2020-01-31   9.855087\n",
       "2020-02-29   9.923406\n",
       "2020-03-31   8.466868\n",
       "2020-04-30   8.098719\n",
       "2020-05-31   8.678144\n",
       "2020-06-30   9.016010\n",
       "2020-07-31   8.827195\n",
       "2020-08-31   8.788490\n",
       "2020-09-30   8.907520\n",
       "2020-10-31   8.507105\n",
       "2020-11-30   8.440119\n",
       "2020-12-31   8.635168\n",
       "2021-01-31   8.679105\n",
       "2021-02-28   8.466089\n",
       "2021-03-31   8.671322\n",
       "2021-04-30   8.902139\n",
       "2021-05-31   8.769900\n",
       "2021-06-30   9.003195\n",
       "2021-07-31   9.140285\n",
       "2021-08-31   9.148624\n",
       "2021-09-30   9.109167\n",
       "2021-10-31   9.095994\n",
       "2021-11-30   9.158824\n",
       "2021-12-31   8.977880\n",
       "2022-01-31   8.774695\n",
       "2022-02-28   8.689453\n",
       "2022-03-31   8.866991\n",
       "2022-04-30   9.006612\n",
       "2022-05-31   8.718542\n",
       "2022-06-30   8.636470\n",
       "2022-07-31   8.661744\n",
       "2022-08-31   8.880545\n",
       "2022-09-30   8.628564\n",
       "2022-10-31   7.999856\n",
       "2022-11-30   8.006259\n",
       "2022-12-31   8.029910\n",
       "2023-01-31   8.267548\n",
       "2023-02-28   8.507715\n",
       "2023-03-31   8.228145\n",
       "2023-04-30   8.289071\n",
       "2023-05-31   8.183085\n",
       "2023-06-30   8.074400\n",
       "2023-07-31   8.043440\n",
       "2023-08-31   8.010183"
      ]
     },
     "execution_count": 12,
     "metadata": {},
     "output_type": "execute_result"
    }
   ],
   "source": [
    "df"
   ]
  },
  {
   "cell_type": "code",
   "execution_count": 13,
   "id": "4cfff98d",
   "metadata": {},
   "outputs": [
    {
     "data": {
      "text/plain": [
       "(48, 1)"
      ]
     },
     "execution_count": 13,
     "metadata": {},
     "output_type": "execute_result"
    }
   ],
   "source": [
    "df.shape"
   ]
  },
  {
   "cell_type": "code",
   "execution_count": 14,
   "id": "1db59300",
   "metadata": {},
   "outputs": [],
   "source": [
    "df = df.dropna()"
   ]
  },
  {
   "cell_type": "code",
   "execution_count": 15,
   "id": "3404db2f",
   "metadata": {},
   "outputs": [
    {
     "data": {
      "text/plain": [
       "(48, 1)"
      ]
     },
     "execution_count": 15,
     "metadata": {},
     "output_type": "execute_result"
    }
   ],
   "source": [
    "df.shape"
   ]
  },
  {
   "cell_type": "code",
   "execution_count": 16,
   "id": "4e54ed88",
   "metadata": {},
   "outputs": [],
   "source": [
    "#df = df.reshape(-1,1)"
   ]
  },
  {
   "cell_type": "code",
   "execution_count": 17,
   "id": "e18f9c09",
   "metadata": {},
   "outputs": [
    {
     "data": {
      "text/plain": [
       "array([[0.97968158],\n",
       "       [1.        ],\n",
       "       [0.855738  ],\n",
       "       [0.74191972],\n",
       "       [0.87953793],\n",
       "       [0.91192666],\n",
       "       [0.22140375],\n",
       "       [0.04686971],\n",
       "       [0.32156669],\n",
       "       [0.48174351],\n",
       "       [0.39222935],\n",
       "       [0.37387988],\n",
       "       [0.43031024],\n",
       "       [0.24047943],\n",
       "       [0.20872239],\n",
       "       [0.3011924 ],\n",
       "       [0.32202208],\n",
       "       [0.2210343 ],\n",
       "       [0.31833215],\n",
       "       [0.42775913],\n",
       "       [0.36506664],\n",
       "       [0.47566834],\n",
       "       [0.54066067],\n",
       "       [0.54461398],\n",
       "       [0.52590793],\n",
       "       [0.51966285],\n",
       "       [0.54944964],\n",
       "       [0.46366687],\n",
       "       [0.36733988],\n",
       "       [0.32692774],\n",
       "       [0.41109619],\n",
       "       [0.47728817],\n",
       "       [0.34071862],\n",
       "       [0.30180946],\n",
       "       [0.3137917 ],\n",
       "       [0.41752201],\n",
       "       [0.29806117],\n",
       "       [0.        ],\n",
       "       [0.00303582],\n",
       "       [0.01424837],\n",
       "       [0.12690883],\n",
       "       [0.24076862],\n",
       "       [0.10822885],\n",
       "       [0.13711255],\n",
       "       [0.08686636],\n",
       "       [0.03534041],\n",
       "       [0.02066274],\n",
       "       [0.00489625]])"
      ]
     },
     "execution_count": 17,
     "metadata": {},
     "output_type": "execute_result"
    }
   ],
   "source": [
    "scaler = MinMaxScaler(feature_range = (0,1))\n",
    "dfnew = scaler.fit_transform(df)\n",
    "dfnew"
   ]
  },
  {
   "cell_type": "code",
   "execution_count": 18,
   "id": "799292fc",
   "metadata": {},
   "outputs": [
    {
     "name": "stdout",
     "output_type": "stream",
     "text": [
      "train size: 33 , test size: 15\n"
     ]
    }
   ],
   "source": [
    "#train_size = int(len(dfnew)-5)\n",
    "#test_size = len(dfnew) - train_size\n",
    "train_size = int(len(dfnew)*0.70)\n",
    "test_size = len(dfnew) - train_size\n",
    "train = dfnew[0:train_size,:]\n",
    "test = dfnew[train_size:len(dfnew),:]\n",
    "print(\"train size: {} , test size: {}\".format(len(train),len(test)))"
   ]
  },
  {
   "cell_type": "code",
   "execution_count": 19,
   "id": "0dd6b73a",
   "metadata": {},
   "outputs": [
    {
     "data": {
      "text/plain": [
       "[<matplotlib.lines.Line2D at 0x2c8db9bd450>]"
      ]
     },
     "execution_count": 19,
     "metadata": {},
     "output_type": "execute_result"
    },
    {
     "data": {
      "image/png": "[encoded data removed]",
      "text/plain": [
       "<Figure size 640x480 with 1 Axes>"
      ]
     },
     "metadata": {},
     "output_type": "display_data"
    }
   ],
   "source": [
    "plt.plot(train)"
   ]
  },
  {
   "cell_type": "code",
   "execution_count": 20,
   "id": "d83a4d13",
   "metadata": {},
   "outputs": [
    {
     "data": {
      "text/plain": [
       "[<matplotlib.lines.Line2D at 0x2c8dc2b2770>]"
      ]
     },
     "execution_count": 20,
     "metadata": {},
     "output_type": "execute_result"
    },
    {
     "data": {
      "image/png": "[encoded data removed]",
      "text/plain": [
       "<Figure size 640x480 with 1 Axes>"
      ]
     },
     "metadata": {},
     "output_type": "display_data"
    }
   ],
   "source": [
    "plt.plot(test)"
   ]
  },
  {
   "cell_type": "code",
   "execution_count": 21,
   "id": "01055c98",
   "metadata": {},
   "outputs": [],
   "source": [
    "nums = 5"
   ]
  },
  {
   "cell_type": "markdown",
   "id": "8a65101b",
   "metadata": {},
   "source": []
  },
  {
   "cell_type": "code",
   "execution_count": 22,
   "id": "fdd4364b",
   "metadata": {},
   "outputs": [],
   "source": [
    "X_train = []\n",
    "y_train = []\n",
    "for i in range(nums,train_size):\n",
    "    X_train.append(train[i-nums:i,0])\n",
    "    y_train.append(train[i,0])\n",
    "X_train = np.array(X_train)\n",
    "y_train = np.array(y_train)"
   ]
  },
  {
   "cell_type": "code",
   "execution_count": 23,
   "id": "46f25d8f",
   "metadata": {},
   "outputs": [
    {
     "name": "stdout",
     "output_type": "stream",
     "text": [
      "(28, 5)\n",
      "(28,)\n"
     ]
    }
   ],
   "source": [
    "print(X_train.shape)\n",
    "print(y_train.shape)"
   ]
  },
  {
   "cell_type": "code",
   "execution_count": 24,
   "id": "b07aa3c8",
   "metadata": {},
   "outputs": [],
   "source": [
    "X_train = np.reshape(X_train,(X_train.shape[0],X_train.shape[1],1))"
   ]
  },
  {
   "cell_type": "code",
   "execution_count": 25,
   "id": "f4e4ccff",
   "metadata": {},
   "outputs": [
    {
     "data": {
      "text/plain": [
       "(28, 5, 1)"
      ]
     },
     "execution_count": 25,
     "metadata": {},
     "output_type": "execute_result"
    }
   ],
   "source": [
    "X_train.shape"
   ]
  },
  {
   "cell_type": "code",
   "execution_count": 26,
   "id": "d875a8c4",
   "metadata": {},
   "outputs": [
    {
     "data": {
      "text/plain": [
       "(33, 1)"
      ]
     },
     "execution_count": 26,
     "metadata": {},
     "output_type": "execute_result"
    }
   ],
   "source": [
    "train.shape"
   ]
  },
  {
   "cell_type": "code",
   "execution_count": null,
   "id": "9e791d2e",
   "metadata": {},
   "outputs": [],
   "source": []
  },
  {
   "cell_type": "code",
   "execution_count": 27,
   "id": "86ec938f",
   "metadata": {},
   "outputs": [],
   "source": [
    "from keras.models import Sequential\n",
    "from keras.layers import LSTM\n",
    "from keras.layers import Dense\n",
    "from keras.layers import Dropout"
   ]
  },
  {
   "cell_type": "code",
   "execution_count": null,
   "id": "741fd111",
   "metadata": {},
   "outputs": [],
   "source": []
  },
  {
   "cell_type": "code",
   "execution_count": 28,
   "id": "d64da628",
   "metadata": {
    "scrolled": true
   },
   "outputs": [],
   "source": [
    "#hyperparameter juning"
   ]
  },
  {
   "cell_type": "code",
   "execution_count": 29,
   "id": "381e74d2",
   "metadata": {},
   "outputs": [],
   "source": [
    "seed_value = 42\n",
    "np.random.seed(seed_value)\n",
    "tf.random.set_seed(seed_value)\n",
    "tf.keras.utils.set_random_seed(\n",
    "    seed_value \n",
    ")"
   ]
  },
  {
   "cell_type": "code",
   "execution_count": 30,
   "id": "dd4b9ad0",
   "metadata": {},
   "outputs": [],
   "source": [
    "regressor = Sequential()\n",
    "regressor.add(LSTM(units = 100,return_sequences=True,input_shape = (X_train.shape[1],1),seed = 42))\n",
    "regressor.add(Dropout(0.2))\n",
    "\n",
    "#regressor.add(LSTM(units = 100,return_sequences = True))\n",
    "#regressor.add(Dropout(0.2))\n",
    "\n",
    "#regressor.add(LSTM(units = 100,return_sequences = True))\n",
    "#regressor.add(Dropout(0.2))\n",
    "\n",
    "regressor.add(LSTM(units = 100))\n",
    "regressor.add(Dropout(0.2))\n",
    "\n",
    "\n",
    "regressor.add(Dense(units = 1))\n"
   ]
  },
  {
   "cell_type": "code",
   "execution_count": 31,
   "id": "20c27c18",
   "metadata": {},
   "outputs": [
    {
     "name": "stdout",
     "output_type": "stream",
     "text": [
      "Epoch 1/20\n",
      "1/1 [==============================] - 5s 5s/step - loss: 0.1727\n",
      "Epoch 2/20\n",
      "1/1 [==============================] - 0s 15ms/step - loss: 0.1465\n",
      "Epoch 3/20\n",
      "1/1 [==============================] - 0s 15ms/step - loss: 0.1249\n",
      "Epoch 4/20\n",
      "1/1 [==============================] - 0s 15ms/step - loss: 0.1010\n",
      "Epoch 5/20\n",
      "1/1 [==============================] - 0s 12ms/step - loss: 0.0806\n",
      "Epoch 6/20\n",
      "1/1 [==============================] - 0s 15ms/step - loss: 0.0625\n",
      "Epoch 7/20\n",
      "1/1 [==============================] - 0s 13ms/step - loss: 0.0470\n",
      "Epoch 8/20\n",
      "1/1 [==============================] - 0s 14ms/step - loss: 0.0357\n",
      "Epoch 9/20\n",
      "1/1 [==============================] - 0s 14ms/step - loss: 0.0288\n",
      "Epoch 10/20\n",
      "1/1 [==============================] - 0s 15ms/step - loss: 0.0333\n",
      "Epoch 11/20\n",
      "1/1 [==============================] - 0s 15ms/step - loss: 0.0436\n",
      "Epoch 12/20\n",
      "1/1 [==============================] - 0s 13ms/step - loss: 0.0336\n",
      "Epoch 13/20\n",
      "1/1 [==============================] - 0s 14ms/step - loss: 0.0458\n",
      "Epoch 14/20\n",
      "1/1 [==============================] - 0s 14ms/step - loss: 0.0401\n",
      "Epoch 15/20\n",
      "1/1 [==============================] - 0s 13ms/step - loss: 0.0364\n",
      "Epoch 16/20\n",
      "1/1 [==============================] - 0s 14ms/step - loss: 0.0363\n",
      "Epoch 17/20\n",
      "1/1 [==============================] - 0s 13ms/step - loss: 0.0303\n",
      "Epoch 18/20\n",
      "1/1 [==============================] - 0s 13ms/step - loss: 0.0337\n",
      "Epoch 19/20\n",
      "1/1 [==============================] - 0s 13ms/step - loss: 0.0293\n",
      "Epoch 20/20\n",
      "1/1 [==============================] - 0s 13ms/step - loss: 0.0284\n"
     ]
    },
    {
     "data": {
      "text/plain": [
       "<keras.callbacks.History at 0x2c8dc47b010>"
      ]
     },
     "execution_count": 31,
     "metadata": {},
     "output_type": "execute_result"
    }
   ],
   "source": [
    "regressor.compile(optimizer = 'adam',loss = \"mean_squared_error\")\n",
    "regressor.fit(X_train,y_train,epochs=20,batch_size=32)"
   ]
  },
  {
   "cell_type": "code",
   "execution_count": 32,
   "id": "a0393dd6",
   "metadata": {},
   "outputs": [
    {
     "data": {
      "text/plain": [
       "(15, 1)"
      ]
     },
     "execution_count": 32,
     "metadata": {},
     "output_type": "execute_result"
    }
   ],
   "source": [
    "test.shape"
   ]
  },
  {
   "cell_type": "code",
   "execution_count": 33,
   "id": "1c47c6d2",
   "metadata": {},
   "outputs": [],
   "source": [
    "X_test = []\n",
    "for i in range(nums, test_size):\n",
    "    X_test.append(test[i-nums:i, 0])"
   ]
  },
  {
   "cell_type": "code",
   "execution_count": 34,
   "id": "2babbbfb",
   "metadata": {},
   "outputs": [],
   "source": [
    "X_test = np.array(X_test)"
   ]
  },
  {
   "cell_type": "code",
   "execution_count": 35,
   "id": "a042ef97",
   "metadata": {},
   "outputs": [
    {
     "data": {
      "text/plain": [
       "(10, 5)"
      ]
     },
     "execution_count": 35,
     "metadata": {},
     "output_type": "execute_result"
    }
   ],
   "source": [
    "X_test.shape"
   ]
  },
  {
   "cell_type": "code",
   "execution_count": 36,
   "id": "0cf50da6",
   "metadata": {},
   "outputs": [],
   "source": [
    "X_test = np.reshape(X_test, (X_test.shape[0], X_test.shape[1], 1))"
   ]
  },
  {
   "cell_type": "code",
   "execution_count": 37,
   "id": "81a761f0",
   "metadata": {},
   "outputs": [
    {
     "data": {
      "text/plain": [
       "(10, 5, 1)"
      ]
     },
     "execution_count": 37,
     "metadata": {},
     "output_type": "execute_result"
    }
   ],
   "source": [
    "X_test.shape"
   ]
  },
  {
   "cell_type": "code",
   "execution_count": 38,
   "id": "d03b0fd8",
   "metadata": {},
   "outputs": [],
   "source": [
    "X_test2 = test.copy()"
   ]
  },
  {
   "cell_type": "code",
   "execution_count": 39,
   "id": "9e5c190a",
   "metadata": {},
   "outputs": [],
   "source": [
    "X_test2 = X_test2.reshape(-1,1)"
   ]
  },
  {
   "cell_type": "code",
   "execution_count": 40,
   "id": "fb6c9bae",
   "metadata": {},
   "outputs": [],
   "source": [
    "#X_test3 = X_test2[98:]"
   ]
  },
  {
   "cell_type": "code",
   "execution_count": 41,
   "id": "3bb60716",
   "metadata": {},
   "outputs": [],
   "source": [
    "#X_test3 = X_test3.reshape(-1,1)"
   ]
  },
  {
   "cell_type": "code",
   "execution_count": 42,
   "id": "ef8fdd1b",
   "metadata": {},
   "outputs": [],
   "source": [
    "train2 = scaler.inverse_transform(train)\n",
    "test2 = scaler.inverse_transform(test)"
   ]
  },
  {
   "cell_type": "code",
   "execution_count": 43,
   "id": "9c12479d",
   "metadata": {},
   "outputs": [],
   "source": [
    "sumtrain = np.append(train2, test2)"
   ]
  },
  {
   "cell_type": "code",
   "execution_count": 44,
   "id": "462fe21f",
   "metadata": {},
   "outputs": [
    {
     "data": {
      "text/plain": [
       "(15, 1)"
      ]
     },
     "execution_count": 44,
     "metadata": {},
     "output_type": "execute_result"
    }
   ],
   "source": [
    "test2.shape"
   ]
  },
  {
   "cell_type": "code",
   "execution_count": 45,
   "id": "7770ef1a",
   "metadata": {},
   "outputs": [],
   "source": [
    "testnew_data = np.delete(test2, range(nums), axis=0)"
   ]
  },
  {
   "cell_type": "code",
   "execution_count": 46,
   "id": "606c67da",
   "metadata": {},
   "outputs": [
    {
     "data": {
      "text/plain": [
       "(10, 1)"
      ]
     },
     "execution_count": 46,
     "metadata": {},
     "output_type": "execute_result"
    }
   ],
   "source": [
    "testnew_data.shape\n"
   ]
  },
  {
   "cell_type": "code",
   "execution_count": 47,
   "id": "d70db7c5",
   "metadata": {},
   "outputs": [
    {
     "name": "stdout",
     "output_type": "stream",
     "text": [
      "1/1 [==============================] - 1s 952ms/step\n"
     ]
    }
   ],
   "source": [
    "predicts = regressor.predict(X_test)\n",
    "predicts = scaler.inverse_transform(predicts)"
   ]
  },
  {
   "cell_type": "code",
   "execution_count": 48,
   "id": "00058e82",
   "metadata": {},
   "outputs": [],
   "source": [
    "df_sum = np.append(train, test)"
   ]
  },
  {
   "cell_type": "code",
   "execution_count": 49,
   "id": "aa5960da",
   "metadata": {
    "scrolled": false
   },
   "outputs": [
    {
     "data": {
      "text/plain": [
       "<matplotlib.legend.Legend at 0x2c8e1ce7a60>"
      ]
     },
     "execution_count": 49,
     "metadata": {},
     "output_type": "execute_result"
    },
    {
     "data": {
      "image/png": "[encoded data removed]",
      "text/plain": [
       "<Figure size 640x480 with 1 Axes>"
      ]
     },
     "metadata": {},
     "output_type": "display_data"
    }
   ],
   "source": [
    "plt.plot(sumtrain,color = 'red',label=\"test\")\n",
    "plt.plot(range(train_size,train_size+test_size),test2,color = 'green',label=\"test\")\n",
    "plt.plot(range(train_size,train_size+test_size-nums),predicts,color = 'blue',label = 'predict')\n",
    "plt.title(str(test_size)+\" Months_input 1 day_1 step(Monthly)\")\n",
    "plt.xlabel('Day')\n",
    "plt.ylabel('Stock Price')\n",
    "plt.legend()"
   ]
  },
  {
   "cell_type": "code",
   "execution_count": null,
   "id": "b7336040",
   "metadata": {},
   "outputs": [],
   "source": []
  },
  {
   "cell_type": "code",
   "execution_count": null,
   "id": "4f1e3f78",
   "metadata": {},
   "outputs": [],
   "source": []
  },
  {
   "cell_type": "code",
   "execution_count": 50,
   "id": "0f9c6ebd",
   "metadata": {},
   "outputs": [
    {
     "name": "stdout",
     "output_type": "stream",
     "text": [
      "Testing Mean Squared Error is 0.11673385327035632\n"
     ]
    }
   ],
   "source": [
    "MSE_error = mean_squared_error(testnew_data, predicts)\n",
    "print('Testing Mean Squared Error is {}'.format(MSE_error))"
   ]
  }
 ],
 "metadata": {
  "kernelspec": {
   "display_name": "Python 3 (ipykernel)",
   "language": "python",
   "name": "python3"
  },
  "language_info": {
   "codemirror_mode": {
    "name": "ipython",
    "version": 3
   },
   "file_extension": ".py",
   "mimetype": "text/x-python",
   "name": "python",
   "nbconvert_exporter": "python",
   "pygments_lexer": "ipython3",
   "version": "3.11.5"
  }
 },
 "nbformat": 4,
 "nbformat_minor": 5
}
