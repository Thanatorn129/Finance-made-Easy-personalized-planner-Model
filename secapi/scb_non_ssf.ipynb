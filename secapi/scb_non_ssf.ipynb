{
 "cells": [
  {
   "cell_type": "code",
   "execution_count": null,
   "metadata": {},
   "outputs": [],
   "source": [
    "import requests\n",
    "import json\n",
    "\n",
    "import pandas as pd\n",
    "\n",
    "headers1 = {\n",
    "    # Request headers of fund daily info\n",
    "    'Ocp-Apim-Subscription-Key': 'c1714d1753d5947f5b8f6f3cb67354d1d'\n",
    "}\n",
    "\n",
    "headers2 = {\n",
    "    # Request headers of fund fact sheet\n",
    "    'Ocp-Apim-Subscription-Key': '89cbe200e6ee4afca33f6e2122aa5e82'\n",
    "}"
   ]
  },
  {
   "cell_type": "code",
   "execution_count": null,
   "metadata": {},
   "outputs": [],
   "source": [
    "response = requests.get(f'https://api.sec.or.th/FundFactsheet/fund/amc/C0000000239', headers = headers2)\n",
    "status = json.loads(response.text)\n",
    "status_df = pd.DataFrame(status)\n",
    "status_df_use = status_df[['proj_id','cancel_date','fund_status','proj_abbr_name','proj_name_en']]\n",
    "status_df_use"
   ]
  },
  {
   "cell_type": "code",
   "execution_count": null,
   "metadata": {},
   "outputs": [],
   "source": [
    "import pandas as pd\n",
    "SCB_amc_data = pd.DataFrame(columns = ['proj_id','risk_spectrum','spec_code','amc','name_th','proj_retail_type'])\n",
    "file = pd.read_csv('./amc_data/SCB_amc_data/SCB_AMC_DATA.csv')\n",
    "file['amc'] =  'C0000000239'\n",
    "file['name_th'] = 'บริษัท หลักทรัพย์จัดการกองทุนไทยพาณิชย์ จำกัด'\n",
    "SCB_amc_data = pd.concat([SCB_amc_data,file])\n",
    "SCB_amc_data_clean = SCB_amc_data.dropna(subset=['spec_code','proj_retail_type'])\n",
    "SCB_amc_data_clean.drop(SCB_amc_data_clean[SCB_amc_data_clean['proj_retail_type'] != 'R'].index, inplace = True)\n",
    "SCB_amc_no_rmf_ssf = SCB_amc_data_clean[~(SCB_amc_data_clean['spec_code'].str.contains('RMF', case=False, na=False) | SCB_amc_data_clean['spec_code'].str.contains('SSF', case=False, na=False))]\n",
    "len(SCB_amc_no_rmf_ssf)"
   ]
  },
  {
   "cell_type": "code",
   "execution_count": null,
   "metadata": {},
   "outputs": [],
   "source": [
    "SCB_amc_no_rmf_ssf = SCB_amc_no_rmf_ssf.reset_index()\n",
    "SCB_amc_no_rmf_ssf.drop(columns=['index'])\n",
    "SCB_amc_no_rmf_ssf"
   ]
  },
  {
   "cell_type": "code",
   "execution_count": null,
   "metadata": {},
   "outputs": [],
   "source": [
    "SCB_amc_no_rmf_ssf = pd.merge(SCB_amc_no_rmf_ssf, status_df_use, on='proj_id')\n",
    "SCB_amc_no_rmf_ssf"
   ]
  },
  {
   "cell_type": "code",
   "execution_count": null,
   "metadata": {},
   "outputs": [],
   "source": [
    "SCB_amc_no_rmf_ssf = SCB_amc_no_rmf_ssf.drop(SCB_amc_no_rmf_ssf[SCB_amc_no_rmf_ssf[\"cancel_date\"]!=\"-\"].index)\n",
    "SCB_amc_no_rmf_ssf = SCB_amc_no_rmf_ssf.drop(SCB_amc_no_rmf_ssf[SCB_amc_no_rmf_ssf[\"fund_status\"]==\"EX\"].index)\n",
    "SCB_amc_no_rmf_ssf"
   ]
  },
  {
   "cell_type": "code",
   "execution_count": null,
   "metadata": {},
   "outputs": [],
   "source": [
    "SCB_amc_no_rmf_ssf = SCB_amc_no_rmf_ssf.reset_index()"
   ]
  },
  {
   "cell_type": "code",
   "execution_count": null,
   "metadata": {},
   "outputs": [],
   "source": [
    "SCB_amc_no_rmf_ssf = SCB_amc_no_rmf_ssf.drop(columns=['level_0','index'])\n",
    "SCB_amc_no_rmf_ssf"
   ]
  },
  {
   "cell_type": "code",
   "execution_count": null,
   "metadata": {},
   "outputs": [],
   "source": [
    "import re\n",
    "import pdfbox\n",
    "import os\n",
    "from IPython.display import clear_output\n",
    "p = pdfbox.PDFBox()\n",
    "not_screenable = []\n",
    "max_len = len(SCB_amc_no_rmf_ssf)\n",
    "for index, row in SCB_amc_no_rmf_ssf.iterrows():\n",
    "        response = requests.get(f'https://api.sec.or.th/FundFactsheet/fund/{row[\"proj_id\"]}/URLs',headers=headers2)\n",
    "        res_text = json.loads(response.text)\n",
    "        res_pdf = requests.get(res_text['url_factsheet'])\n",
    "        with open(f\"tmp/tmp.pdf\", 'wb') as pdf_file:\n",
    "                pdf_file.write(res_pdf.content)\n",
    "        try:\n",
    "                print(str(index+1) + ' of ' + str(max_len) +' '+ str(round(((index+1)/max_len)*100,2))+' % Completed' )\n",
    "                if os.path.getsize(\"tmp/tmp.pdf\") < 216:\n",
    "                        raise Exception(\"File not found ::\") \n",
    "                p.extract_text(f'tmp/tmp.pdf')\n",
    "                with open(f'tmp/tmp.txt', 'r',  encoding=\"utf8\") as file:\n",
    "                        data = file.read()\n",
    "                match1 = re.search(r'(\\S+)\\s*:\\s*เสี่ยง', data)\n",
    "                match2 = re.search(r'(\\S+)\\s*:\\s*เสียง', data)\n",
    "                match3 = re.search(r'(\\S+)\\s*:\\s*เสยง', data)\n",
    "                if match1:\n",
    "                        number_before_string = match1.group(1)\n",
    "                        SCB_amc_no_rmf_ssf.at[index, 'risk_spectrum'] = number_before_string\n",
    "                elif match2:\n",
    "                        number_before_string = match2.group(1)\n",
    "                        SCB_amc_no_rmf_ssf.at[index, 'risk_spectrum'] = number_before_string\n",
    "                elif match3:\n",
    "                        number_before_string = match3.group(1)\n",
    "                        SCB_amc_no_rmf_ssf.at[index, 'risk_spectrum'] = number_before_string\n",
    "                else:\n",
    "                        print(\"Pattern not found on \"+ row[\"proj_id\"])\n",
    "                        not_screenable.append(row[\"proj_id\"])\n",
    "                clear_output(wait=True)\n",
    "        except Exception as e:\n",
    "                print(str(e) +' Error found on '+ row['proj_id'])\n",
    "                "
   ]
  },
  {
   "cell_type": "code",
   "execution_count": null,
   "metadata": {},
   "outputs": [],
   "source": [
    "not_screenable"
   ]
  },
  {
   "cell_type": "code",
   "execution_count": null,
   "metadata": {},
   "outputs": [],
   "source": [
    "for proj_id in not_screenable:\n",
    "        response = requests.get(f'https://api.sec.or.th/FundFactsheet/fund/{proj_id}/URLs',headers=headers2)\n",
    "        res_text = json.loads(response.text)\n",
    "        res_pdf = requests.get(res_text['url_factsheet'])\n",
    "        with open(f\"tmp/{proj_id}.pdf\", 'wb') as pdf_file:\n",
    "                pdf_file.write(res_pdf.content)"
   ]
  },
  {
   "cell_type": "code",
   "execution_count": null,
   "metadata": {},
   "outputs": [],
   "source": [
    "SCB_amc_no_rmf_ssf"
   ]
  },
  {
   "cell_type": "code",
   "execution_count": null,
   "metadata": {},
   "outputs": [],
   "source": [
    "SCB_amc_no_rmf_ssf_nan = SCB_amc_no_rmf_ssf[SCB_amc_no_rmf_ssf.isna().any(axis=1)]\n",
    "SCB_amc_no_rmf_ssf_nan"
   ]
  },
  {
   "cell_type": "code",
   "execution_count": null,
   "metadata": {},
   "outputs": [],
   "source": [
    "SCB_amc_no_rmf_ssf = SCB_amc_no_rmf_ssf.dropna()\n",
    "SCB_amc_no_rmf_ssf"
   ]
  },
  {
   "cell_type": "code",
   "execution_count": null,
   "metadata": {},
   "outputs": [],
   "source": [
    "SCB_amc_no_rmf_ssf_nan"
   ]
  },
  {
   "cell_type": "code",
   "execution_count": null,
   "metadata": {},
   "outputs": [],
   "source": [
    "#read manually\n",
    "risk_list = ['8','3','3','3','8','3','3','8']\n",
    "SCB_amc_no_rmf_ssf_nan.loc[SCB_amc_no_rmf_ssf_nan['risk_spectrum'].isna(), 'risk_spectrum'] = risk_list\n",
    "SCB_amc_no_rmf_ssf_nan"
   ]
  },
  {
   "cell_type": "code",
   "execution_count": null,
   "metadata": {},
   "outputs": [],
   "source": [
    "result_SCB_amc_no_rmf_ssf = pd.concat([SCB_amc_no_rmf_ssf, SCB_amc_no_rmf_ssf_nan], ignore_index=True)"
   ]
  },
  {
   "cell_type": "code",
   "execution_count": null,
   "metadata": {},
   "outputs": [],
   "source": [
    "result_SCB_amc_no_rmf_ssf"
   ]
  },
  {
   "cell_type": "code",
   "execution_count": null,
   "metadata": {},
   "outputs": [],
   "source": [
    "result_SCB_amc_no_rmf_ssf['proj_id'].nunique()"
   ]
  },
  {
   "cell_type": "code",
   "execution_count": null,
   "metadata": {},
   "outputs": [],
   "source": [
    "result_SCB_amc_no_rmf_ssf.to_csv('../Result_amc/SCB/SCB_NON_RMF_SSF.csv', encoding='utf8')"
   ]
  },
  {
   "cell_type": "code",
   "execution_count": 29,
   "metadata": {},
   "outputs": [
    {
     "data": {
      "text/html": [
       "<div>\n",
       "<style scoped>\n",
       "    .dataframe tbody tr th:only-of-type {\n",
       "        vertical-align: middle;\n",
       "    }\n",
       "\n",
       "    .dataframe tbody tr th {\n",
       "        vertical-align: top;\n",
       "    }\n",
       "\n",
       "    .dataframe thead th {\n",
       "        text-align: right;\n",
       "    }\n",
       "</style>\n",
       "<table border=\"1\" class=\"dataframe\">\n",
       "  <thead>\n",
       "    <tr style=\"text-align: right;\">\n",
       "      <th></th>\n",
       "      <th>Unnamed: 0</th>\n",
       "      <th>proj_id</th>\n",
       "      <th>risk_spectrum</th>\n",
       "      <th>spec_code</th>\n",
       "      <th>amc</th>\n",
       "      <th>name_th</th>\n",
       "      <th>proj_retail_type</th>\n",
       "      <th>cancel_date</th>\n",
       "      <th>fund_status</th>\n",
       "      <th>proj_abbr_name</th>\n",
       "      <th>proj_name_en</th>\n",
       "    </tr>\n",
       "  </thead>\n",
       "  <tbody>\n",
       "    <tr>\n",
       "      <th>0</th>\n",
       "      <td>0</td>\n",
       "      <td>M0004_2564</td>\n",
       "      <td>5</td>\n",
       "      <td>FED</td>\n",
       "      <td>C0000000239</td>\n",
       "      <td>บริษัท หลักทรัพย์จัดการกองทุนไทยพาณิชย์ จำกัด</td>\n",
       "      <td>R</td>\n",
       "      <td>-</td>\n",
       "      <td>RG</td>\n",
       "      <td>SCBAA</td>\n",
       "      <td>SCB Active Allocation Fund</td>\n",
       "    </tr>\n",
       "    <tr>\n",
       "      <th>1</th>\n",
       "      <td>1</td>\n",
       "      <td>M0015_2564</td>\n",
       "      <td>6</td>\n",
       "      <td>FED</td>\n",
       "      <td>C0000000239</td>\n",
       "      <td>บริษัท หลักทรัพย์จัดการกองทุนไทยพาณิชย์ จำกัด</td>\n",
       "      <td>R</td>\n",
       "      <td>-</td>\n",
       "      <td>RG</td>\n",
       "      <td>SCBAO</td>\n",
       "      <td>SCB Asia Opportunity Fund</td>\n",
       "    </tr>\n",
       "    <tr>\n",
       "      <th>2</th>\n",
       "      <td>2</td>\n",
       "      <td>M0024_2560</td>\n",
       "      <td>6</td>\n",
       "      <td>FED</td>\n",
       "      <td>C0000000239</td>\n",
       "      <td>บริษัท หลักทรัพย์จัดการกองทุนไทยพาณิชย์ จำกัด</td>\n",
       "      <td>R</td>\n",
       "      <td>-</td>\n",
       "      <td>RG</td>\n",
       "      <td>SCBUSHY</td>\n",
       "      <td>SCB US Short Duration High Income Bond</td>\n",
       "    </tr>\n",
       "    <tr>\n",
       "      <th>3</th>\n",
       "      <td>3</td>\n",
       "      <td>M0026_2539</td>\n",
       "      <td>6</td>\n",
       "      <td>IND</td>\n",
       "      <td>C0000000239</td>\n",
       "      <td>บริษัท หลักทรัพย์จัดการกองทุนไทยพาณิชย์ จำกัด</td>\n",
       "      <td>R</td>\n",
       "      <td>-</td>\n",
       "      <td>RG</td>\n",
       "      <td>SCBSETFUND</td>\n",
       "      <td>SCB SET INDEX FUND</td>\n",
       "    </tr>\n",
       "    <tr>\n",
       "      <th>4</th>\n",
       "      <td>4</td>\n",
       "      <td>M0026_2551</td>\n",
       "      <td>6</td>\n",
       "      <td>FED</td>\n",
       "      <td>C0000000239</td>\n",
       "      <td>บริษัท หลักทรัพย์จัดการกองทุนไทยพาณิชย์ จำกัด</td>\n",
       "      <td>R</td>\n",
       "      <td>-</td>\n",
       "      <td>RG</td>\n",
       "      <td>SCBAEMFUND</td>\n",
       "      <td>SCB ASIAN EMERGING MARKETS OPEN END FUND</td>\n",
       "    </tr>\n",
       "    <tr>\n",
       "      <th>...</th>\n",
       "      <td>...</td>\n",
       "      <td>...</td>\n",
       "      <td>...</td>\n",
       "      <td>...</td>\n",
       "      <td>...</td>\n",
       "      <td>...</td>\n",
       "      <td>...</td>\n",
       "      <td>...</td>\n",
       "      <td>...</td>\n",
       "      <td>...</td>\n",
       "      <td>...</td>\n",
       "    </tr>\n",
       "    <tr>\n",
       "      <th>90</th>\n",
       "      <td>90</td>\n",
       "      <td>M0511_2566</td>\n",
       "      <td>3</td>\n",
       "      <td>CRF</td>\n",
       "      <td>C0000000239</td>\n",
       "      <td>บริษัท หลักทรัพย์จัดการกองทุนไทยพาณิชย์ จำกัด</td>\n",
       "      <td>R</td>\n",
       "      <td>-</td>\n",
       "      <td>RG</td>\n",
       "      <td>SCBCP6M15</td>\n",
       "      <td>SCB Capital Protection 6M15</td>\n",
       "    </tr>\n",
       "    <tr>\n",
       "      <th>91</th>\n",
       "      <td>91</td>\n",
       "      <td>M0522_2555</td>\n",
       "      <td>8</td>\n",
       "      <td>FED</td>\n",
       "      <td>C0000000239</td>\n",
       "      <td>บริษัท หลักทรัพย์จัดการกองทุนไทยพาณิชย์ จำกัด</td>\n",
       "      <td>R</td>\n",
       "      <td>-</td>\n",
       "      <td>RG</td>\n",
       "      <td>SCBOILFUND</td>\n",
       "      <td>SCB OIL FUND</td>\n",
       "    </tr>\n",
       "    <tr>\n",
       "      <th>92</th>\n",
       "      <td>92</td>\n",
       "      <td>M0549_2566</td>\n",
       "      <td>3</td>\n",
       "      <td>CRF</td>\n",
       "      <td>C0000000239</td>\n",
       "      <td>บริษัท หลักทรัพย์จัดการกองทุนไทยพาณิชย์ จำกัด</td>\n",
       "      <td>R</td>\n",
       "      <td>-</td>\n",
       "      <td>RG</td>\n",
       "      <td>SCBCP6M16</td>\n",
       "      <td>SCB Capital Protection 6M16</td>\n",
       "    </tr>\n",
       "    <tr>\n",
       "      <th>93</th>\n",
       "      <td>93</td>\n",
       "      <td>M0570_2566</td>\n",
       "      <td>3</td>\n",
       "      <td>CRF</td>\n",
       "      <td>C0000000239</td>\n",
       "      <td>บริษัท หลักทรัพย์จัดการกองทุนไทยพาณิชย์ จำกัด</td>\n",
       "      <td>R</td>\n",
       "      <td>-</td>\n",
       "      <td>RG</td>\n",
       "      <td>SCBCP6M17</td>\n",
       "      <td>SCB Capital Protection 6M17</td>\n",
       "    </tr>\n",
       "    <tr>\n",
       "      <th>94</th>\n",
       "      <td>94</td>\n",
       "      <td>M0882_2554</td>\n",
       "      <td>8</td>\n",
       "      <td>FED</td>\n",
       "      <td>C0000000239</td>\n",
       "      <td>บริษัท หลักทรัพย์จัดการกองทุนไทยพาณิชย์ จำกัด</td>\n",
       "      <td>R</td>\n",
       "      <td>-</td>\n",
       "      <td>RG</td>\n",
       "      <td>SCBCOMP</td>\n",
       "      <td>SCB COMMODITY PLUS FUND</td>\n",
       "    </tr>\n",
       "  </tbody>\n",
       "</table>\n",
       "<p>95 rows × 11 columns</p>\n",
       "</div>"
      ],
      "text/plain": [
       "    Unnamed: 0     proj_id  risk_spectrum spec_code          amc   \n",
       "0            0  M0004_2564              5       FED  C0000000239  \\\n",
       "1            1  M0015_2564              6       FED  C0000000239   \n",
       "2            2  M0024_2560              6       FED  C0000000239   \n",
       "3            3  M0026_2539              6       IND  C0000000239   \n",
       "4            4  M0026_2551              6       FED  C0000000239   \n",
       "..         ...         ...            ...       ...          ...   \n",
       "90          90  M0511_2566              3       CRF  C0000000239   \n",
       "91          91  M0522_2555              8       FED  C0000000239   \n",
       "92          92  M0549_2566              3       CRF  C0000000239   \n",
       "93          93  M0570_2566              3       CRF  C0000000239   \n",
       "94          94  M0882_2554              8       FED  C0000000239   \n",
       "\n",
       "                                          name_th proj_retail_type   \n",
       "0   บริษัท หลักทรัพย์จัดการกองทุนไทยพาณิชย์ จำกัด                R  \\\n",
       "1   บริษัท หลักทรัพย์จัดการกองทุนไทยพาณิชย์ จำกัด                R   \n",
       "2   บริษัท หลักทรัพย์จัดการกองทุนไทยพาณิชย์ จำกัด                R   \n",
       "3   บริษัท หลักทรัพย์จัดการกองทุนไทยพาณิชย์ จำกัด                R   \n",
       "4   บริษัท หลักทรัพย์จัดการกองทุนไทยพาณิชย์ จำกัด                R   \n",
       "..                                            ...              ...   \n",
       "90  บริษัท หลักทรัพย์จัดการกองทุนไทยพาณิชย์ จำกัด                R   \n",
       "91  บริษัท หลักทรัพย์จัดการกองทุนไทยพาณิชย์ จำกัด                R   \n",
       "92  บริษัท หลักทรัพย์จัดการกองทุนไทยพาณิชย์ จำกัด                R   \n",
       "93  บริษัท หลักทรัพย์จัดการกองทุนไทยพาณิชย์ จำกัด                R   \n",
       "94  บริษัท หลักทรัพย์จัดการกองทุนไทยพาณิชย์ จำกัด                R   \n",
       "\n",
       "   cancel_date fund_status proj_abbr_name   \n",
       "0            -          RG          SCBAA  \\\n",
       "1            -          RG          SCBAO   \n",
       "2            -          RG        SCBUSHY   \n",
       "3            -          RG     SCBSETFUND   \n",
       "4            -          RG     SCBAEMFUND   \n",
       "..         ...         ...            ...   \n",
       "90           -          RG      SCBCP6M15   \n",
       "91           -          RG     SCBOILFUND   \n",
       "92           -          RG      SCBCP6M16   \n",
       "93           -          RG      SCBCP6M17   \n",
       "94           -          RG        SCBCOMP   \n",
       "\n",
       "                                    proj_name_en  \n",
       "0                     SCB Active Allocation Fund  \n",
       "1                      SCB Asia Opportunity Fund  \n",
       "2         SCB US Short Duration High Income Bond  \n",
       "3                          SCB SET INDEX FUND     \n",
       "4   SCB ASIAN EMERGING MARKETS OPEN END FUND      \n",
       "..                                           ...  \n",
       "90                   SCB Capital Protection 6M15  \n",
       "91                                  SCB OIL FUND  \n",
       "92                   SCB Capital Protection 6M16  \n",
       "93                   SCB Capital Protection 6M17  \n",
       "94                       SCB COMMODITY PLUS FUND  \n",
       "\n",
       "[95 rows x 11 columns]"
      ]
     },
     "execution_count": 29,
     "metadata": {},
     "output_type": "execute_result"
    }
   ],
   "source": [
    "df = pd.read_csv('../Result_amc/SCB/SCB_NON_RMF_SSF.csv', encoding='utf8')\n",
    "df"
   ]
  },
  {
   "cell_type": "code",
   "execution_count": 30,
   "metadata": {},
   "outputs": [
    {
     "data": {
      "text/plain": [
       "risk_spectrum\n",
       "3    47\n",
       "6    26\n",
       "5    13\n",
       "7     4\n",
       "8     3\n",
       "1     2\n",
       "Name: count, dtype: int64"
      ]
     },
     "execution_count": 30,
     "metadata": {},
     "output_type": "execute_result"
    }
   ],
   "source": [
    "df['risk_spectrum'].value_counts()"
   ]
  },
  {
   "cell_type": "markdown",
   "metadata": {},
   "source": [
    "### SE = อนุมัติ(อยู่ระหว่าง Filing) "
   ]
  }
 ],
 "metadata": {
  "kernelspec": {
   "display_name": "Python 3",
   "language": "python",
   "name": "python3"
  },
  "language_info": {
   "codemirror_mode": {
    "name": "ipython",
    "version": 3
   },
   "file_extension": ".py",
   "mimetype": "text/x-python",
   "name": "python",
   "nbconvert_exporter": "python",
   "pygments_lexer": "ipython3",
   "version": "3.10.10"
  }
 },
 "nbformat": 4,
 "nbformat_minor": 2
}
