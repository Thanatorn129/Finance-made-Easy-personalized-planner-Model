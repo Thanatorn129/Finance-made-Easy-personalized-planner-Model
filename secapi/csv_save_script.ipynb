{
 "cells": [
  {
   "attachments": {},
   "cell_type": "markdown",
   "metadata": {},
   "source": [
    "USE YOUR OWN SEC API KEYS LOL"
   ]
  },
  {
   "cell_type": "code",
   "execution_count": null,
   "metadata": {},
   "outputs": [],
   "source": [
    "import requests\n",
    "import json\n",
    "import pandas as pd\n",
    "\n",
    "fdi_key = {\n",
    "    # Request headers of fund daily info\n",
    "    'Ocp-Apim-Subscription-Key': 'afbbb604d2814b59b0e5fa6ff3717e16'\n",
    "}\n",
    "\n",
    "ffs_key = {\n",
    "    # Request headers of fund fact sheet\n",
    "    'Ocp-Apim-Subscription-Key': '16c86c3eb3cb4fee8f54932b92630aef'\n",
    "}"
   ]
  },
  {
   "attachments": {},
   "cell_type": "markdown",
   "metadata": {},
   "source": [
    "NAV FURTHEST POSSIBLE, Date (format as of)\n",
    "unique_id บลจ.SCB\n",
    "2018-2019"
   ]
  },
  {
   "cell_type": "code",
   "execution_count": null,
   "metadata": {},
   "outputs": [],
   "source": [
    "unique_id = \"C0000000239\"\n",
    "fundfactsheet = requests.get(f'https://api.sec.or.th/FundFactsheet/fund/amc/{unique_id}', headers = ffs_key)\n",
    "# The total of mutual fund which SCB is occupied"
   ]
  },
  {
   "cell_type": "code",
   "execution_count": null,
   "metadata": {},
   "outputs": [],
   "source": [
    "proj_list = json.loads(fundfactsheet.text)"
   ]
  },
  {
   "cell_type": "code",
   "execution_count": null,
   "metadata": {},
   "outputs": [],
   "source": [
    "list_unique_id = []\n",
    "for x in proj_list :\n",
    "    list_unique_id.append(x['proj_id'])"
   ]
  },
  {
   "cell_type": "code",
   "execution_count": null,
   "metadata": {},
   "outputs": [],
   "source": [
    "list_rmf = []\n",
    "list_ssf = []\n",
    "for x in list_unique_id :\n",
    "    fundfactsheet = requests.get(f'https://api.sec.or.th/FundFactsheet/fund/{x}/specification', headers = ffs_key)\n",
    "    print(fundfactsheet.status_code)\n",
    "    if fundfactsheet.status_code == 200:\n",
    "        for j in json.loads(fundfactsheet.text):\n",
    "            if j['spec_code'] == 'SSF' :\n",
    "                list_ssf.append(x)\n",
    "            elif j['spec_code'] == 'RMF':\n",
    "                list_rmf.append(x)"
   ]
  },
  {
   "cell_type": "code",
   "execution_count": null,
   "metadata": {},
   "outputs": [],
   "source": [
    "print(len(list_ssf))\n",
    "list_ssf"
   ]
  },
  {
   "attachments": {},
   "cell_type": "markdown",
   "metadata": {},
   "source": [
    "Date Time"
   ]
  },
  {
   "cell_type": "code",
   "execution_count": null,
   "metadata": {},
   "outputs": [],
   "source": [
    "from datetime import date, timedelta\n",
    "from datetime import datetime\n",
    "\n",
    "def daterange(start_date, end_date):\n",
    "    for n in range(int((end_date - start_date).days)):\n",
    "        yield start_date + timedelta(n)"
   ]
  },
  {
   "cell_type": "code",
   "execution_count": null,
   "metadata": {},
   "outputs": [],
   "source": [
    "end_date = datetime(2022, 12, 31)"
   ]
  },
  {
   "cell_type": "code",
   "execution_count": null,
   "metadata": {},
   "outputs": [],
   "source": [
    "import csv\n",
    "header = ['nav_date',\n",
    "'net_asset',\n",
    "'last_val',\n",
    "'sell_price',\n",
    "'buy_price',\n",
    "'sell_swap_price',\n",
    "'buy_swap_price']\n",
    "for ssf_id in list_ssf:\n",
    "    year =  ssf_id.rsplit(\"_\", 1) #Split _ to dictate years in Thai Calendar, TH year - 543 = A.D., B Year\n",
    "    start_year = (int)(year[1])-543 #At index 1, in list String year is Year in TH, then we subtract by 543\n",
    "    start_date = datetime(start_year,1,1)\n",
    "    filename = f'ssf_nav_data/'+ssf_id+'_SSF.csv'\n",
    "    with open(filename, 'w',newline = '') as f_out:    \n",
    "        f_out = csv.writer(f_out,quoting=csv.QUOTE_ALL)\n",
    "        f_out.writerow(header)\n",
    "        for date in daterange(start_date,datetime(2022, 12, 31)):\n",
    "                res_FDI = requests.get(f'https://api.sec.or.th/FundDailyInfo/{ssf_id}/dailynav/{date.strftime(\"%Y-%m-%d\")}', headers = fdi_key)\n",
    "                print(res_FDI)\n",
    "                print(date)\n",
    "                if(res_FDI.status_code == 200):\n",
    "                    res_json = json.loads(res_FDI.text)\n",
    "                    f_out.writerow([res_json['nav_date'],res_json['net_asset'],res_json['last_val'],\n",
    "                                 res_json['amc_info'][0]['sell_price'],\n",
    "                                 res_json['amc_info'][0]['buy_price'],\n",
    "                                 res_json['amc_info'][0]['sell_swap_price'],\n",
    "                                 res_json['amc_info'][0]['buy_swap_price']])\n",
    "         \n"
   ]
  },
  {
   "cell_type": "code",
   "execution_count": null,
   "metadata": {},
   "outputs": [],
   "source": []
  }
 ],
 "metadata": {
  "kernelspec": {
   "display_name": "Python 3",
   "language": "python",
   "name": "python3"
  },
  "language_info": {
   "codemirror_mode": {
    "name": "ipython",
    "version": 3
   },
   "file_extension": ".py",
   "mimetype": "text/x-python",
   "name": "python",
   "nbconvert_exporter": "python",
   "pygments_lexer": "ipython3",
   "version": "3.10.10"
  },
  "orig_nbformat": 4
 },
 "nbformat": 4,
 "nbformat_minor": 2
}
